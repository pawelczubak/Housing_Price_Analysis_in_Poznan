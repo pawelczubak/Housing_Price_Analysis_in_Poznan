{
 "cells": [
  {
   "metadata": {},
   "cell_type": "markdown",
   "source": [
    "# **Housing Price Analysis in Poznań**\n",
    "\n",
    "## Notebook 1: Static Data Collection from Gratka.pl\n",
    "\n",
    "Welcome to the first notebook of the *Housing Price Analysis in Poznań* project.  \n",
    "In this notebook, we will collect static data about available apartments listed on the website **Gratka.pl**.\n",
    "\n",
    "### Objectives of this Notebook:\n",
    "1. Understand the structure of data available on Gratka.pl.\n",
    "2. Extract relevant details such as price, location, size, and other key attributes of listed apartments.\n",
    "3. Prepare the dataset for further analysis in subsequent notebooks.\n",
    "\n",
    "---"
   ],
   "id": "df08c0237c124b7a"
  },
  {
   "metadata": {
    "ExecuteTime": {
     "end_time": "2024-12-19T21:07:06.392611Z",
     "start_time": "2024-12-19T21:05:59.079838Z"
    }
   },
   "cell_type": "code",
   "source": [
    "import time\n",
    "import os\n",
    "from datetime import datetime\n",
    "from selenium import webdriver\n",
    "from selenium.webdriver.firefox.options import Options\n",
    "from selenium.webdriver.common.by import By\n",
    "from selenium.webdriver.support.ui import WebDriverWait\n",
    "from selenium.webdriver.support import expected_conditions as EC\n",
    "from selenium.common.exceptions import TimeoutException, NoSuchElementException\n",
    "\n",
    "# Firefox browser configuration\n",
    "options = Options()\n",
    "options.headless = True  # Set to False if you want to see the browser in action\n",
    "\n",
    "# Get the current date and set the path to the folder\n",
    "current_date = datetime.now().strftime(\"%d-%m-%Y\")\n",
    "base_folder = os.path.abspath(os.path.join(os.getcwd(), \"../data/raw\"))  # ../data/raw\n",
    "output_folder = os.path.join(base_folder, current_date)\n",
    "\n",
    "# Create the folder if it does not exist\n",
    "os.makedirs(output_folder, exist_ok=True)\n",
    "\n",
    "try:\n",
    "    # Initialize the WebDriver\n",
    "    driver = webdriver.Firefox(options=options)\n",
    "    driver.set_page_load_timeout(30)  # Maximum page load time (in seconds)\n",
    "    base_url = \"https://gratka.pl/nieruchomosci/mieszkania/poznan/wtorny?page={page}&location[map]=1&location[map_bounds]=52.509141,17.0716593:52.2919161,16.7316724&sort=relevance\"\n",
    "    max_page = 40  # Maximum page number to process\n",
    "\n",
    "    for page in range(1, max_page + 1):\n",
    "        # Generate the URL for the given page\n",
    "        url = base_url.format(page=page)\n",
    "        print(f\"Navigating to page: {url}\")\n",
    "\n",
    "        # Open the page\n",
    "        driver.get(url)\n",
    "\n",
    "        # Handle the \"accept and close\" button only on the first page\n",
    "        if page == 1:\n",
    "            try:\n",
    "                WebDriverWait(driver, 10).until(\n",
    "                    EC.element_to_be_clickable((By.CSS_SELECTOR, 'button[aria-label=\"accept and close\"]'))\n",
    "                ).click()\n",
    "                print(\"Clicked the 'accept and close' button.\")\n",
    "            except TimeoutException:\n",
    "                print(\"The 'accept and close' button was not found or was not clickable.\")\n",
    "\n",
    "        # Wait until the key element on the page (e.g., listings container) is loaded\n",
    "        try:\n",
    "            WebDriverWait(driver, 15).until(\n",
    "                EC.presence_of_element_located((By.CSS_SELECTOR, 'div.card__outer'))\n",
    "            )\n",
    "            print(\"Page elements loaded.\")\n",
    "        except TimeoutException:\n",
    "            print(\"The page did not fully load within the specified time.\")\n",
    "\n",
    "        # Additional wait for the first page to ensure everything is fully loaded\n",
    "        if page == 1:\n",
    "            print(\"Additional wait for the first page to fully load...\")\n",
    "            time.sleep(5)\n",
    "\n",
    "        # Get the HTML content of the page\n",
    "        page_source = driver.page_source\n",
    "\n",
    "        # Save to a file in the folder named after the current date\n",
    "        file_name = os.path.join(output_folder, f\"output_page_{page}.html\")\n",
    "        with open(file_name, \"w\", encoding=\"utf-8\") as file:\n",
    "            file.write(page_source)\n",
    "        print(f\"HTML of page {page} saved to file '{file_name}'.\")\n",
    "\n",
    "        # Wait before proceeding to the next page\n",
    "        time.sleep(5)\n",
    "\n",
    "except Exception as e:\n",
    "    print(f\"An error occurred: {e}\")\n",
    "\n",
    "finally:\n",
    "    # Close the browser\n",
    "    driver.quit()\n",
    "    print(\"The browser has been closed.\")\n"
   ],
   "id": "f15191a142d94d4f",
   "outputs": [
    {
     "name": "stdout",
     "output_type": "stream",
     "text": [
      "Przechodzenie do strony: https://gratka.pl/nieruchomosci/mieszkania/poznan/wtorny?page=1&location[map]=1&location[map_bounds]=52.509141,17.0716593:52.2919161,16.7316724&sort=relevance\n",
      "Kliknięto przycisk 'accept and close'.\n",
      "Elementy strony załadowane.\n",
      "Dodatkowe oczekiwanie na pełne załadowanie pierwszej strony...\n",
      "HTML strony 1 zapisany w pliku '/Users/less4spares/projects/Housing_Price_Analysis_in_Poznan/data/raw/19-12-2024/output_page_1.html'.\n",
      "Przechodzenie do strony: https://gratka.pl/nieruchomosci/mieszkania/poznan/wtorny?page=2&location[map]=1&location[map_bounds]=52.509141,17.0716593:52.2919161,16.7316724&sort=relevance\n",
      "Elementy strony załadowane.\n",
      "HTML strony 2 zapisany w pliku '/Users/less4spares/projects/Housing_Price_Analysis_in_Poznan/data/raw/19-12-2024/output_page_2.html'.\n",
      "Przechodzenie do strony: https://gratka.pl/nieruchomosci/mieszkania/poznan/wtorny?page=3&location[map]=1&location[map_bounds]=52.509141,17.0716593:52.2919161,16.7316724&sort=relevance\n",
      "Elementy strony załadowane.\n",
      "HTML strony 3 zapisany w pliku '/Users/less4spares/projects/Housing_Price_Analysis_in_Poznan/data/raw/19-12-2024/output_page_3.html'.\n",
      "Przechodzenie do strony: https://gratka.pl/nieruchomosci/mieszkania/poznan/wtorny?page=4&location[map]=1&location[map_bounds]=52.509141,17.0716593:52.2919161,16.7316724&sort=relevance\n",
      "Elementy strony załadowane.\n",
      "HTML strony 4 zapisany w pliku '/Users/less4spares/projects/Housing_Price_Analysis_in_Poznan/data/raw/19-12-2024/output_page_4.html'.\n",
      "Przeglądarka została zamknięta.\n"
     ]
    },
    {
     "ename": "KeyboardInterrupt",
     "evalue": "",
     "output_type": "error",
     "traceback": [
      "\u001B[0;31m---------------------------------------------------------------------------\u001B[0m",
      "\u001B[0;31mKeyboardInterrupt\u001B[0m                         Traceback (most recent call last)",
      "Cell \u001B[0;32mIn[90], line 72\u001B[0m\n\u001B[1;32m     69\u001B[0m         \u001B[38;5;28mprint\u001B[39m(\u001B[38;5;124mf\u001B[39m\u001B[38;5;124m\"\u001B[39m\u001B[38;5;124mHTML strony \u001B[39m\u001B[38;5;132;01m{\u001B[39;00mpage\u001B[38;5;132;01m}\u001B[39;00m\u001B[38;5;124m zapisany w pliku \u001B[39m\u001B[38;5;124m'\u001B[39m\u001B[38;5;132;01m{\u001B[39;00mfile_name\u001B[38;5;132;01m}\u001B[39;00m\u001B[38;5;124m'\u001B[39m\u001B[38;5;124m.\u001B[39m\u001B[38;5;124m\"\u001B[39m)\n\u001B[1;32m     71\u001B[0m         \u001B[38;5;66;03m# Poczekaj przed przejściem do kolejnej strony\u001B[39;00m\n\u001B[0;32m---> 72\u001B[0m         \u001B[43mtime\u001B[49m\u001B[38;5;241;43m.\u001B[39;49m\u001B[43msleep\u001B[49m\u001B[43m(\u001B[49m\u001B[38;5;241;43m5\u001B[39;49m\u001B[43m)\u001B[49m\n\u001B[1;32m     74\u001B[0m \u001B[38;5;28;01mexcept\u001B[39;00m \u001B[38;5;167;01mException\u001B[39;00m \u001B[38;5;28;01mas\u001B[39;00m e:\n\u001B[1;32m     75\u001B[0m     \u001B[38;5;28mprint\u001B[39m(\u001B[38;5;124mf\u001B[39m\u001B[38;5;124m\"\u001B[39m\u001B[38;5;124mWystąpił błąd: \u001B[39m\u001B[38;5;132;01m{\u001B[39;00me\u001B[38;5;132;01m}\u001B[39;00m\u001B[38;5;124m\"\u001B[39m)\n",
      "\u001B[0;31mKeyboardInterrupt\u001B[0m: "
     ]
    }
   ],
   "execution_count": 90
  },
  {
   "metadata": {},
   "cell_type": "markdown",
   "source": "",
   "id": "9366ed6ca958acf8"
  }
 ],
 "metadata": {
  "kernelspec": {
   "display_name": "Python 3",
   "language": "python",
   "name": "python3"
  },
  "language_info": {
   "codemirror_mode": {
    "name": "ipython",
    "version": 2
   },
   "file_extension": ".py",
   "mimetype": "text/x-python",
   "name": "python",
   "nbconvert_exporter": "python",
   "pygments_lexer": "ipython2",
   "version": "2.7.6"
  }
 },
 "nbformat": 4,
 "nbformat_minor": 5
}
